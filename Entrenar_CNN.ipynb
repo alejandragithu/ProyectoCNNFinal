{
 "cells": [
  {
   "cell_type": "markdown",
   "id": "3b4f05e5",
   "metadata": {},
   "source": [
    "### Proyecto: Clasificador de Objetos de Escritorio"
   ]
  },
  {
   "cell_type": "markdown",
   "id": "9477fae9",
   "metadata": {},
   "source": [
    "### Entrenamiento y evaluación de un modelo CNN para reconocer objetos típicos de escritorio"
   ]
  },
  {
   "cell_type": "markdown",
   "id": "879bd079",
   "metadata": {},
   "source": [
    "Este notebook realiza el entrenamiento completo de una red neuronal convolucional (CNN) que clasifica imágenes de objetos de escritorio (monitor, teclado, ratón, taza, móvil, libro).\n",
    "\n",
    "Además, se evalúa el modelo con métricas y visualizaciones, y se guarda el modelo entrenado."
   ]
  },
  {
   "cell_type": "markdown",
   "id": "a6575cfc",
   "metadata": {},
   "source": [
    "# 1. Importar Librerías"
   ]
  },
  {
   "cell_type": "code",
   "execution_count": 1,
   "id": "1fc02f0b",
   "metadata": {},
   "outputs": [],
   "source": [
    "import os\n",
    "import numpy as np\n",
    "import matplotlib.pyplot as plt\n",
    "import tensorflow as tf\n",
    "from tensorflow.keras.models import Model\n",
    "from tensorflow.keras.layers import Conv2D, MaxPooling2D, Flatten, Dense, Dropout\n",
    "from tensorflow.keras.preprocessing.image import ImageDataGenerator\n",
    "from sklearn.metrics import confusion_matrix, ConfusionMatrixDisplay\n",
    "from tensorflow.keras.preprocessing import image\n",
    "from tensorflow.keras.callbacks import EarlyStopping\n",
    "from tensorflow.keras.layers import Input\n",
    "from tensorflow.keras.optimizers import Adam\n",
    "from tensorflow.keras.applications import VGG16\n",
    "from tensorflow.keras.models import load_model\n",
    "from tensorflow.keras.callbacks import EarlyStopping, ReduceLROnPlateau\n",
    "import shutil\n",
    "import random"
   ]
  },
  {
   "cell_type": "markdown",
   "id": "2ff17c8d",
   "metadata": {},
   "source": [
    "# 2. Realizar configuraciones"
   ]
  },
  {
   "cell_type": "code",
   "execution_count": 2,
   "id": "155890ec",
   "metadata": {},
   "outputs": [],
   "source": [
    "img_height, img_width = 150, 150  # Tamaño de las imágenes de entrada\n",
    "batch_size = 32  # Tamaño de batch para entrenamiento\n",
    "epochs = 50  # Número de épocas de entrenamiento\n",
    "\n",
    "# Rutas de las carpetas\n",
    "base_dir = 'data'\n",
    "train_dir = os.path.join(base_dir, 'train')\n",
    "val_dir = os.path.join(base_dir, 'validation')\n",
    "test_dir = os.path.join(base_dir, 'test')"
   ]
  },
  {
   "cell_type": "markdown",
   "id": "351fcb5c",
   "metadata": {},
   "source": [
    "# 3. Definición de Porcentajes de División del Dataset (Train, Validation, Test)"
   ]
  },
  {
   "cell_type": "code",
   "execution_count": 3,
   "id": "786fbe78",
   "metadata": {},
   "outputs": [],
   "source": [
    "# Porcentajes\n",
    "train_ratio = 0.75\n",
    "val_ratio = 0.15\n",
    "test_ratio = 0.10"
   ]
  },
  {
   "cell_type": "markdown",
   "id": "57598856",
   "metadata": {},
   "source": [
    "# 4. Verificar la estructura de las carpetas"
   ]
  },
  {
   "cell_type": "code",
   "execution_count": 4,
   "id": "9e0761dc",
   "metadata": {},
   "outputs": [
    {
     "name": "stdout",
     "output_type": "stream",
     "text": [
      "Estructura de carpetas correcta.\n"
     ]
    }
   ],
   "source": [
    "assert os.path.exists(train_dir), \"Falta la carpeta train/\"\n",
    "assert os.path.exists(val_dir), \"Falta la carpeta validation/\"\n",
    "assert os.path.exists(test_dir), \"Falta la carpeta test/\"\n",
    "\n",
    "print(\"Estructura de carpetas correcta.\")"
   ]
  },
  {
   "cell_type": "markdown",
   "id": "8131ba5b",
   "metadata": {},
   "source": [
    "# 5. Reestructuración de imágenes"
   ]
  },
  {
   "cell_type": "code",
   "execution_count": 5,
   "id": "0b122816",
   "metadata": {},
   "outputs": [
    {
     "name": "stdout",
     "output_type": "stream",
     "text": [
      "Clase libro: Total: 70, Train: 52, Val: 10, Test: 8\n",
      "Clase monitor: Total: 70, Train: 52, Val: 10, Test: 8\n",
      "Clase móvil: Total: 70, Train: 52, Val: 10, Test: 8\n",
      "Clase ratón: Total: 70, Train: 52, Val: 10, Test: 8\n",
      "Clase taza: Total: 70, Train: 52, Val: 10, Test: 8\n",
      "Clase teclado: Total: 70, Train: 52, Val: 10, Test: 8\n",
      "Reestructuración completada.\n",
      "\n",
      "--- Distribución de Imágenes ---\n",
      "\n",
      "Carpeta TRAIN:\n",
      "  libro: 52 imágenes\n",
      "  monitor: 52 imágenes\n",
      "  móvil: 52 imágenes\n",
      "  ratón: 52 imágenes\n",
      "  taza: 52 imágenes\n",
      "  teclado: 52 imágenes\n",
      "\n",
      "Carpeta VALIDATION:\n",
      "  libro: 10 imágenes\n",
      "  monitor: 10 imágenes\n",
      "  móvil: 10 imágenes\n",
      "  ratón: 10 imágenes\n",
      "  taza: 10 imágenes\n",
      "  teclado: 10 imágenes\n",
      "\n",
      "Carpeta TEST:\n",
      "  libro: 8 imágenes\n",
      "  monitor: 8 imágenes\n",
      "  móvil: 8 imágenes\n",
      "  ratón: 8 imágenes\n",
      "  taza: 8 imágenes\n",
      "  teclado: 8 imágenes\n"
     ]
    }
   ],
   "source": [
    "def balance_dataset():\n",
    "    \"\"\" \n",
    "    Reestructura las carpetas para mantener la proporción 75-15-10 \n",
    "    de forma balanceada para cada clase. \n",
    "    \"\"\"\n",
    "    classes = os.listdir(train_dir)\n",
    "\n",
    "    for class_name in classes:\n",
    "        # Obtener todas las imágenes de la clase\n",
    "        class_images = []\n",
    "        for folder in [train_dir, val_dir, test_dir]:\n",
    "            class_folder = os.path.join(folder, class_name)\n",
    "            if os.path.exists(class_folder):\n",
    "                class_images.extend([os.path.join(class_folder, img) for img in os.listdir(class_folder)])\n",
    "\n",
    "        # Asegurar que haya imágenes\n",
    "        if not class_images:\n",
    "            print(f\"No se encontraron imágenes para la clase {class_name}.\")\n",
    "            continue\n",
    "\n",
    "        random.shuffle(class_images)\n",
    "\n",
    "        # Cálculo del reparto\n",
    "        total = len(class_images)\n",
    "        train_count = int(total * train_ratio)\n",
    "        val_count = int(total * val_ratio)\n",
    "        test_count = total - train_count - val_count\n",
    "\n",
    "        # Verificar que se mantengan las proporciones\n",
    "        print(f\"Clase {class_name}: Total: {total}, Train: {train_count}, Val: {val_count}, Test: {test_count}\")\n",
    "\n",
    "        # Crear carpetas si no existen\n",
    "        for folder in [train_dir, val_dir, test_dir]:\n",
    "            os.makedirs(os.path.join(folder, class_name), exist_ok=True)\n",
    "\n",
    "        # Reorganizar imágenes\n",
    "        target_dirs = [\n",
    "            (train_dir, train_count),\n",
    "            (val_dir, val_count),\n",
    "            (test_dir, test_count)\n",
    "        ]\n",
    "\n",
    "        for target_dir, count in target_dirs:\n",
    "            target_class_dir = os.path.join(target_dir, class_name)\n",
    "\n",
    "            for _ in range(count):\n",
    "                if class_images:\n",
    "                    img_path = class_images.pop()\n",
    "                    shutil.move(img_path, os.path.join(target_class_dir, os.path.basename(img_path)))\n",
    "\n",
    "balance_dataset()\n",
    "print(\"Reestructuración completada.\")\n",
    "\n",
    "def mostrar_distribucion_imagenes():\n",
    "    \"\"\" Muestra el número de imágenes por clase en cada carpeta. \"\"\"\n",
    "    print(\"\\n--- Distribución de Imágenes ---\")\n",
    "    for folder in ['train', 'validation', 'test']:\n",
    "        folder_path = os.path.join(base_dir, folder)\n",
    "        print(f\"\\nCarpeta {folder.upper()}:\")\n",
    "        for class_name in os.listdir(folder_path):\n",
    "            class_path = os.path.join(folder_path, class_name)\n",
    "            if os.path.isdir(class_path):\n",
    "                num_images = len(os.listdir(class_path))\n",
    "                print(f\"  {class_name}: {num_images} imágenes\")\n",
    "\n",
    "mostrar_distribucion_imagenes()"
   ]
  },
  {
   "cell_type": "markdown",
   "id": "fcc14491",
   "metadata": {},
   "source": [
    "# 6. Preparación de los datos"
   ]
  },
  {
   "cell_type": "code",
   "execution_count": 6,
   "id": "73cfee01",
   "metadata": {},
   "outputs": [
    {
     "name": "stdout",
     "output_type": "stream",
     "text": [
      "Found 312 images belonging to 6 classes.\n",
      "Found 60 images belonging to 6 classes.\n",
      "Found 48 images belonging to 6 classes.\n"
     ]
    }
   ],
   "source": [
    "# Aplicamos data augmentation al conjunto de entrenamiento para mejorar la generalización\n",
    "train_datagen = ImageDataGenerator(\n",
    "    rescale=1./255,\n",
    "    rotation_range=40,\n",
    "    width_shift_range=0.3,\n",
    "    height_shift_range=0.3,\n",
    "    shear_range=0.3,\n",
    "    zoom_range=0.5,\n",
    "    horizontal_flip=True,\n",
    "    vertical_flip=True,\n",
    "    brightness_range=[0.5, 1.5]\n",
    ")\n",
    "val_datagen = ImageDataGenerator(rescale=1./255)\n",
    "test_datagen = ImageDataGenerator(rescale=1./255)\n",
    "\n",
    "# Generadores\n",
    "train_generator = train_datagen.flow_from_directory(\n",
    "    train_dir,\n",
    "    target_size=(img_height, img_width),\n",
    "    batch_size=batch_size,\n",
    "    class_mode='categorical'\n",
    ")\n",
    "\n",
    "val_generator = val_datagen.flow_from_directory(\n",
    "    val_dir,\n",
    "    target_size=(img_height, img_width),\n",
    "    batch_size=batch_size,\n",
    "    class_mode='categorical'\n",
    ")\n",
    "\n",
    "test_generator = test_datagen.flow_from_directory(\n",
    "    test_dir,\n",
    "    target_size=(img_height, img_width),\n",
    "    batch_size=1,\n",
    "    class_mode='categorical',\n",
    "    shuffle=False\n",
    ")"
   ]
  },
  {
   "cell_type": "markdown",
   "id": "5634b878",
   "metadata": {},
   "source": [
    "# 7. Modelo CNN basado en VGG16"
   ]
  },
  {
   "cell_type": "code",
   "execution_count": 7,
   "id": "4a8b6c5a",
   "metadata": {},
   "outputs": [
    {
     "data": {
      "text/html": [
       "<pre style=\"white-space:pre;overflow-x:auto;line-height:normal;font-family:Menlo,'DejaVu Sans Mono',consolas,'Courier New',monospace\"><span style=\"font-weight: bold\">Model: \"functional\"</span>\n",
       "</pre>\n"
      ],
      "text/plain": [
       "\u001b[1mModel: \"functional\"\u001b[0m\n"
      ]
     },
     "metadata": {},
     "output_type": "display_data"
    },
    {
     "data": {
      "text/html": [
       "<pre style=\"white-space:pre;overflow-x:auto;line-height:normal;font-family:Menlo,'DejaVu Sans Mono',consolas,'Courier New',monospace\">┏━━━━━━━━━━━━━━━━━━━━━━━━━━━━━━━━━┳━━━━━━━━━━━━━━━━━━━━━━━━┳━━━━━━━━━━━━━━━┓\n",
       "┃<span style=\"font-weight: bold\"> Layer (type)                    </span>┃<span style=\"font-weight: bold\"> Output Shape           </span>┃<span style=\"font-weight: bold\">       Param # </span>┃\n",
       "┡━━━━━━━━━━━━━━━━━━━━━━━━━━━━━━━━━╇━━━━━━━━━━━━━━━━━━━━━━━━╇━━━━━━━━━━━━━━━┩\n",
       "│ input_layer (<span style=\"color: #0087ff; text-decoration-color: #0087ff\">InputLayer</span>)        │ (<span style=\"color: #00d7ff; text-decoration-color: #00d7ff\">None</span>, <span style=\"color: #00af00; text-decoration-color: #00af00\">150</span>, <span style=\"color: #00af00; text-decoration-color: #00af00\">150</span>, <span style=\"color: #00af00; text-decoration-color: #00af00\">3</span>)    │             <span style=\"color: #00af00; text-decoration-color: #00af00\">0</span> │\n",
       "├─────────────────────────────────┼────────────────────────┼───────────────┤\n",
       "│ block1_conv1 (<span style=\"color: #0087ff; text-decoration-color: #0087ff\">Conv2D</span>)           │ (<span style=\"color: #00d7ff; text-decoration-color: #00d7ff\">None</span>, <span style=\"color: #00af00; text-decoration-color: #00af00\">150</span>, <span style=\"color: #00af00; text-decoration-color: #00af00\">150</span>, <span style=\"color: #00af00; text-decoration-color: #00af00\">64</span>)   │         <span style=\"color: #00af00; text-decoration-color: #00af00\">1,792</span> │\n",
       "├─────────────────────────────────┼────────────────────────┼───────────────┤\n",
       "│ block1_conv2 (<span style=\"color: #0087ff; text-decoration-color: #0087ff\">Conv2D</span>)           │ (<span style=\"color: #00d7ff; text-decoration-color: #00d7ff\">None</span>, <span style=\"color: #00af00; text-decoration-color: #00af00\">150</span>, <span style=\"color: #00af00; text-decoration-color: #00af00\">150</span>, <span style=\"color: #00af00; text-decoration-color: #00af00\">64</span>)   │        <span style=\"color: #00af00; text-decoration-color: #00af00\">36,928</span> │\n",
       "├─────────────────────────────────┼────────────────────────┼───────────────┤\n",
       "│ block1_pool (<span style=\"color: #0087ff; text-decoration-color: #0087ff\">MaxPooling2D</span>)      │ (<span style=\"color: #00d7ff; text-decoration-color: #00d7ff\">None</span>, <span style=\"color: #00af00; text-decoration-color: #00af00\">75</span>, <span style=\"color: #00af00; text-decoration-color: #00af00\">75</span>, <span style=\"color: #00af00; text-decoration-color: #00af00\">64</span>)     │             <span style=\"color: #00af00; text-decoration-color: #00af00\">0</span> │\n",
       "├─────────────────────────────────┼────────────────────────┼───────────────┤\n",
       "│ block2_conv1 (<span style=\"color: #0087ff; text-decoration-color: #0087ff\">Conv2D</span>)           │ (<span style=\"color: #00d7ff; text-decoration-color: #00d7ff\">None</span>, <span style=\"color: #00af00; text-decoration-color: #00af00\">75</span>, <span style=\"color: #00af00; text-decoration-color: #00af00\">75</span>, <span style=\"color: #00af00; text-decoration-color: #00af00\">128</span>)    │        <span style=\"color: #00af00; text-decoration-color: #00af00\">73,856</span> │\n",
       "├─────────────────────────────────┼────────────────────────┼───────────────┤\n",
       "│ block2_conv2 (<span style=\"color: #0087ff; text-decoration-color: #0087ff\">Conv2D</span>)           │ (<span style=\"color: #00d7ff; text-decoration-color: #00d7ff\">None</span>, <span style=\"color: #00af00; text-decoration-color: #00af00\">75</span>, <span style=\"color: #00af00; text-decoration-color: #00af00\">75</span>, <span style=\"color: #00af00; text-decoration-color: #00af00\">128</span>)    │       <span style=\"color: #00af00; text-decoration-color: #00af00\">147,584</span> │\n",
       "├─────────────────────────────────┼────────────────────────┼───────────────┤\n",
       "│ block2_pool (<span style=\"color: #0087ff; text-decoration-color: #0087ff\">MaxPooling2D</span>)      │ (<span style=\"color: #00d7ff; text-decoration-color: #00d7ff\">None</span>, <span style=\"color: #00af00; text-decoration-color: #00af00\">37</span>, <span style=\"color: #00af00; text-decoration-color: #00af00\">37</span>, <span style=\"color: #00af00; text-decoration-color: #00af00\">128</span>)    │             <span style=\"color: #00af00; text-decoration-color: #00af00\">0</span> │\n",
       "├─────────────────────────────────┼────────────────────────┼───────────────┤\n",
       "│ block3_conv1 (<span style=\"color: #0087ff; text-decoration-color: #0087ff\">Conv2D</span>)           │ (<span style=\"color: #00d7ff; text-decoration-color: #00d7ff\">None</span>, <span style=\"color: #00af00; text-decoration-color: #00af00\">37</span>, <span style=\"color: #00af00; text-decoration-color: #00af00\">37</span>, <span style=\"color: #00af00; text-decoration-color: #00af00\">256</span>)    │       <span style=\"color: #00af00; text-decoration-color: #00af00\">295,168</span> │\n",
       "├─────────────────────────────────┼────────────────────────┼───────────────┤\n",
       "│ block3_conv2 (<span style=\"color: #0087ff; text-decoration-color: #0087ff\">Conv2D</span>)           │ (<span style=\"color: #00d7ff; text-decoration-color: #00d7ff\">None</span>, <span style=\"color: #00af00; text-decoration-color: #00af00\">37</span>, <span style=\"color: #00af00; text-decoration-color: #00af00\">37</span>, <span style=\"color: #00af00; text-decoration-color: #00af00\">256</span>)    │       <span style=\"color: #00af00; text-decoration-color: #00af00\">590,080</span> │\n",
       "├─────────────────────────────────┼────────────────────────┼───────────────┤\n",
       "│ block3_conv3 (<span style=\"color: #0087ff; text-decoration-color: #0087ff\">Conv2D</span>)           │ (<span style=\"color: #00d7ff; text-decoration-color: #00d7ff\">None</span>, <span style=\"color: #00af00; text-decoration-color: #00af00\">37</span>, <span style=\"color: #00af00; text-decoration-color: #00af00\">37</span>, <span style=\"color: #00af00; text-decoration-color: #00af00\">256</span>)    │       <span style=\"color: #00af00; text-decoration-color: #00af00\">590,080</span> │\n",
       "├─────────────────────────────────┼────────────────────────┼───────────────┤\n",
       "│ block3_pool (<span style=\"color: #0087ff; text-decoration-color: #0087ff\">MaxPooling2D</span>)      │ (<span style=\"color: #00d7ff; text-decoration-color: #00d7ff\">None</span>, <span style=\"color: #00af00; text-decoration-color: #00af00\">18</span>, <span style=\"color: #00af00; text-decoration-color: #00af00\">18</span>, <span style=\"color: #00af00; text-decoration-color: #00af00\">256</span>)    │             <span style=\"color: #00af00; text-decoration-color: #00af00\">0</span> │\n",
       "├─────────────────────────────────┼────────────────────────┼───────────────┤\n",
       "│ block4_conv1 (<span style=\"color: #0087ff; text-decoration-color: #0087ff\">Conv2D</span>)           │ (<span style=\"color: #00d7ff; text-decoration-color: #00d7ff\">None</span>, <span style=\"color: #00af00; text-decoration-color: #00af00\">18</span>, <span style=\"color: #00af00; text-decoration-color: #00af00\">18</span>, <span style=\"color: #00af00; text-decoration-color: #00af00\">512</span>)    │     <span style=\"color: #00af00; text-decoration-color: #00af00\">1,180,160</span> │\n",
       "├─────────────────────────────────┼────────────────────────┼───────────────┤\n",
       "│ block4_conv2 (<span style=\"color: #0087ff; text-decoration-color: #0087ff\">Conv2D</span>)           │ (<span style=\"color: #00d7ff; text-decoration-color: #00d7ff\">None</span>, <span style=\"color: #00af00; text-decoration-color: #00af00\">18</span>, <span style=\"color: #00af00; text-decoration-color: #00af00\">18</span>, <span style=\"color: #00af00; text-decoration-color: #00af00\">512</span>)    │     <span style=\"color: #00af00; text-decoration-color: #00af00\">2,359,808</span> │\n",
       "├─────────────────────────────────┼────────────────────────┼───────────────┤\n",
       "│ block4_conv3 (<span style=\"color: #0087ff; text-decoration-color: #0087ff\">Conv2D</span>)           │ (<span style=\"color: #00d7ff; text-decoration-color: #00d7ff\">None</span>, <span style=\"color: #00af00; text-decoration-color: #00af00\">18</span>, <span style=\"color: #00af00; text-decoration-color: #00af00\">18</span>, <span style=\"color: #00af00; text-decoration-color: #00af00\">512</span>)    │     <span style=\"color: #00af00; text-decoration-color: #00af00\">2,359,808</span> │\n",
       "├─────────────────────────────────┼────────────────────────┼───────────────┤\n",
       "│ block4_pool (<span style=\"color: #0087ff; text-decoration-color: #0087ff\">MaxPooling2D</span>)      │ (<span style=\"color: #00d7ff; text-decoration-color: #00d7ff\">None</span>, <span style=\"color: #00af00; text-decoration-color: #00af00\">9</span>, <span style=\"color: #00af00; text-decoration-color: #00af00\">9</span>, <span style=\"color: #00af00; text-decoration-color: #00af00\">512</span>)      │             <span style=\"color: #00af00; text-decoration-color: #00af00\">0</span> │\n",
       "├─────────────────────────────────┼────────────────────────┼───────────────┤\n",
       "│ block5_conv1 (<span style=\"color: #0087ff; text-decoration-color: #0087ff\">Conv2D</span>)           │ (<span style=\"color: #00d7ff; text-decoration-color: #00d7ff\">None</span>, <span style=\"color: #00af00; text-decoration-color: #00af00\">9</span>, <span style=\"color: #00af00; text-decoration-color: #00af00\">9</span>, <span style=\"color: #00af00; text-decoration-color: #00af00\">512</span>)      │     <span style=\"color: #00af00; text-decoration-color: #00af00\">2,359,808</span> │\n",
       "├─────────────────────────────────┼────────────────────────┼───────────────┤\n",
       "│ block5_conv2 (<span style=\"color: #0087ff; text-decoration-color: #0087ff\">Conv2D</span>)           │ (<span style=\"color: #00d7ff; text-decoration-color: #00d7ff\">None</span>, <span style=\"color: #00af00; text-decoration-color: #00af00\">9</span>, <span style=\"color: #00af00; text-decoration-color: #00af00\">9</span>, <span style=\"color: #00af00; text-decoration-color: #00af00\">512</span>)      │     <span style=\"color: #00af00; text-decoration-color: #00af00\">2,359,808</span> │\n",
       "├─────────────────────────────────┼────────────────────────┼───────────────┤\n",
       "│ block5_conv3 (<span style=\"color: #0087ff; text-decoration-color: #0087ff\">Conv2D</span>)           │ (<span style=\"color: #00d7ff; text-decoration-color: #00d7ff\">None</span>, <span style=\"color: #00af00; text-decoration-color: #00af00\">9</span>, <span style=\"color: #00af00; text-decoration-color: #00af00\">9</span>, <span style=\"color: #00af00; text-decoration-color: #00af00\">512</span>)      │     <span style=\"color: #00af00; text-decoration-color: #00af00\">2,359,808</span> │\n",
       "├─────────────────────────────────┼────────────────────────┼───────────────┤\n",
       "│ block5_pool (<span style=\"color: #0087ff; text-decoration-color: #0087ff\">MaxPooling2D</span>)      │ (<span style=\"color: #00d7ff; text-decoration-color: #00d7ff\">None</span>, <span style=\"color: #00af00; text-decoration-color: #00af00\">4</span>, <span style=\"color: #00af00; text-decoration-color: #00af00\">4</span>, <span style=\"color: #00af00; text-decoration-color: #00af00\">512</span>)      │             <span style=\"color: #00af00; text-decoration-color: #00af00\">0</span> │\n",
       "├─────────────────────────────────┼────────────────────────┼───────────────┤\n",
       "│ flatten (<span style=\"color: #0087ff; text-decoration-color: #0087ff\">Flatten</span>)               │ (<span style=\"color: #00d7ff; text-decoration-color: #00d7ff\">None</span>, <span style=\"color: #00af00; text-decoration-color: #00af00\">8192</span>)           │             <span style=\"color: #00af00; text-decoration-color: #00af00\">0</span> │\n",
       "├─────────────────────────────────┼────────────────────────┼───────────────┤\n",
       "│ dense (<span style=\"color: #0087ff; text-decoration-color: #0087ff\">Dense</span>)                   │ (<span style=\"color: #00d7ff; text-decoration-color: #00d7ff\">None</span>, <span style=\"color: #00af00; text-decoration-color: #00af00\">1024</span>)           │     <span style=\"color: #00af00; text-decoration-color: #00af00\">8,389,632</span> │\n",
       "├─────────────────────────────────┼────────────────────────┼───────────────┤\n",
       "│ dropout (<span style=\"color: #0087ff; text-decoration-color: #0087ff\">Dropout</span>)               │ (<span style=\"color: #00d7ff; text-decoration-color: #00d7ff\">None</span>, <span style=\"color: #00af00; text-decoration-color: #00af00\">1024</span>)           │             <span style=\"color: #00af00; text-decoration-color: #00af00\">0</span> │\n",
       "├─────────────────────────────────┼────────────────────────┼───────────────┤\n",
       "│ dense_1 (<span style=\"color: #0087ff; text-decoration-color: #0087ff\">Dense</span>)                 │ (<span style=\"color: #00d7ff; text-decoration-color: #00d7ff\">None</span>, <span style=\"color: #00af00; text-decoration-color: #00af00\">512</span>)            │       <span style=\"color: #00af00; text-decoration-color: #00af00\">524,800</span> │\n",
       "├─────────────────────────────────┼────────────────────────┼───────────────┤\n",
       "│ dropout_1 (<span style=\"color: #0087ff; text-decoration-color: #0087ff\">Dropout</span>)             │ (<span style=\"color: #00d7ff; text-decoration-color: #00d7ff\">None</span>, <span style=\"color: #00af00; text-decoration-color: #00af00\">512</span>)            │             <span style=\"color: #00af00; text-decoration-color: #00af00\">0</span> │\n",
       "├─────────────────────────────────┼────────────────────────┼───────────────┤\n",
       "│ dense_2 (<span style=\"color: #0087ff; text-decoration-color: #0087ff\">Dense</span>)                 │ (<span style=\"color: #00d7ff; text-decoration-color: #00d7ff\">None</span>, <span style=\"color: #00af00; text-decoration-color: #00af00\">256</span>)            │       <span style=\"color: #00af00; text-decoration-color: #00af00\">131,328</span> │\n",
       "├─────────────────────────────────┼────────────────────────┼───────────────┤\n",
       "│ dropout_2 (<span style=\"color: #0087ff; text-decoration-color: #0087ff\">Dropout</span>)             │ (<span style=\"color: #00d7ff; text-decoration-color: #00d7ff\">None</span>, <span style=\"color: #00af00; text-decoration-color: #00af00\">256</span>)            │             <span style=\"color: #00af00; text-decoration-color: #00af00\">0</span> │\n",
       "├─────────────────────────────────┼────────────────────────┼───────────────┤\n",
       "│ dense_3 (<span style=\"color: #0087ff; text-decoration-color: #0087ff\">Dense</span>)                 │ (<span style=\"color: #00d7ff; text-decoration-color: #00d7ff\">None</span>, <span style=\"color: #00af00; text-decoration-color: #00af00\">6</span>)              │         <span style=\"color: #00af00; text-decoration-color: #00af00\">1,542</span> │\n",
       "└─────────────────────────────────┴────────────────────────┴───────────────┘\n",
       "</pre>\n"
      ],
      "text/plain": [
       "┏━━━━━━━━━━━━━━━━━━━━━━━━━━━━━━━━━┳━━━━━━━━━━━━━━━━━━━━━━━━┳━━━━━━━━━━━━━━━┓\n",
       "┃\u001b[1m \u001b[0m\u001b[1mLayer (type)                   \u001b[0m\u001b[1m \u001b[0m┃\u001b[1m \u001b[0m\u001b[1mOutput Shape          \u001b[0m\u001b[1m \u001b[0m┃\u001b[1m \u001b[0m\u001b[1m      Param #\u001b[0m\u001b[1m \u001b[0m┃\n",
       "┡━━━━━━━━━━━━━━━━━━━━━━━━━━━━━━━━━╇━━━━━━━━━━━━━━━━━━━━━━━━╇━━━━━━━━━━━━━━━┩\n",
       "│ input_layer (\u001b[38;5;33mInputLayer\u001b[0m)        │ (\u001b[38;5;45mNone\u001b[0m, \u001b[38;5;34m150\u001b[0m, \u001b[38;5;34m150\u001b[0m, \u001b[38;5;34m3\u001b[0m)    │             \u001b[38;5;34m0\u001b[0m │\n",
       "├─────────────────────────────────┼────────────────────────┼───────────────┤\n",
       "│ block1_conv1 (\u001b[38;5;33mConv2D\u001b[0m)           │ (\u001b[38;5;45mNone\u001b[0m, \u001b[38;5;34m150\u001b[0m, \u001b[38;5;34m150\u001b[0m, \u001b[38;5;34m64\u001b[0m)   │         \u001b[38;5;34m1,792\u001b[0m │\n",
       "├─────────────────────────────────┼────────────────────────┼───────────────┤\n",
       "│ block1_conv2 (\u001b[38;5;33mConv2D\u001b[0m)           │ (\u001b[38;5;45mNone\u001b[0m, \u001b[38;5;34m150\u001b[0m, \u001b[38;5;34m150\u001b[0m, \u001b[38;5;34m64\u001b[0m)   │        \u001b[38;5;34m36,928\u001b[0m │\n",
       "├─────────────────────────────────┼────────────────────────┼───────────────┤\n",
       "│ block1_pool (\u001b[38;5;33mMaxPooling2D\u001b[0m)      │ (\u001b[38;5;45mNone\u001b[0m, \u001b[38;5;34m75\u001b[0m, \u001b[38;5;34m75\u001b[0m, \u001b[38;5;34m64\u001b[0m)     │             \u001b[38;5;34m0\u001b[0m │\n",
       "├─────────────────────────────────┼────────────────────────┼───────────────┤\n",
       "│ block2_conv1 (\u001b[38;5;33mConv2D\u001b[0m)           │ (\u001b[38;5;45mNone\u001b[0m, \u001b[38;5;34m75\u001b[0m, \u001b[38;5;34m75\u001b[0m, \u001b[38;5;34m128\u001b[0m)    │        \u001b[38;5;34m73,856\u001b[0m │\n",
       "├─────────────────────────────────┼────────────────────────┼───────────────┤\n",
       "│ block2_conv2 (\u001b[38;5;33mConv2D\u001b[0m)           │ (\u001b[38;5;45mNone\u001b[0m, \u001b[38;5;34m75\u001b[0m, \u001b[38;5;34m75\u001b[0m, \u001b[38;5;34m128\u001b[0m)    │       \u001b[38;5;34m147,584\u001b[0m │\n",
       "├─────────────────────────────────┼────────────────────────┼───────────────┤\n",
       "│ block2_pool (\u001b[38;5;33mMaxPooling2D\u001b[0m)      │ (\u001b[38;5;45mNone\u001b[0m, \u001b[38;5;34m37\u001b[0m, \u001b[38;5;34m37\u001b[0m, \u001b[38;5;34m128\u001b[0m)    │             \u001b[38;5;34m0\u001b[0m │\n",
       "├─────────────────────────────────┼────────────────────────┼───────────────┤\n",
       "│ block3_conv1 (\u001b[38;5;33mConv2D\u001b[0m)           │ (\u001b[38;5;45mNone\u001b[0m, \u001b[38;5;34m37\u001b[0m, \u001b[38;5;34m37\u001b[0m, \u001b[38;5;34m256\u001b[0m)    │       \u001b[38;5;34m295,168\u001b[0m │\n",
       "├─────────────────────────────────┼────────────────────────┼───────────────┤\n",
       "│ block3_conv2 (\u001b[38;5;33mConv2D\u001b[0m)           │ (\u001b[38;5;45mNone\u001b[0m, \u001b[38;5;34m37\u001b[0m, \u001b[38;5;34m37\u001b[0m, \u001b[38;5;34m256\u001b[0m)    │       \u001b[38;5;34m590,080\u001b[0m │\n",
       "├─────────────────────────────────┼────────────────────────┼───────────────┤\n",
       "│ block3_conv3 (\u001b[38;5;33mConv2D\u001b[0m)           │ (\u001b[38;5;45mNone\u001b[0m, \u001b[38;5;34m37\u001b[0m, \u001b[38;5;34m37\u001b[0m, \u001b[38;5;34m256\u001b[0m)    │       \u001b[38;5;34m590,080\u001b[0m │\n",
       "├─────────────────────────────────┼────────────────────────┼───────────────┤\n",
       "│ block3_pool (\u001b[38;5;33mMaxPooling2D\u001b[0m)      │ (\u001b[38;5;45mNone\u001b[0m, \u001b[38;5;34m18\u001b[0m, \u001b[38;5;34m18\u001b[0m, \u001b[38;5;34m256\u001b[0m)    │             \u001b[38;5;34m0\u001b[0m │\n",
       "├─────────────────────────────────┼────────────────────────┼───────────────┤\n",
       "│ block4_conv1 (\u001b[38;5;33mConv2D\u001b[0m)           │ (\u001b[38;5;45mNone\u001b[0m, \u001b[38;5;34m18\u001b[0m, \u001b[38;5;34m18\u001b[0m, \u001b[38;5;34m512\u001b[0m)    │     \u001b[38;5;34m1,180,160\u001b[0m │\n",
       "├─────────────────────────────────┼────────────────────────┼───────────────┤\n",
       "│ block4_conv2 (\u001b[38;5;33mConv2D\u001b[0m)           │ (\u001b[38;5;45mNone\u001b[0m, \u001b[38;5;34m18\u001b[0m, \u001b[38;5;34m18\u001b[0m, \u001b[38;5;34m512\u001b[0m)    │     \u001b[38;5;34m2,359,808\u001b[0m │\n",
       "├─────────────────────────────────┼────────────────────────┼───────────────┤\n",
       "│ block4_conv3 (\u001b[38;5;33mConv2D\u001b[0m)           │ (\u001b[38;5;45mNone\u001b[0m, \u001b[38;5;34m18\u001b[0m, \u001b[38;5;34m18\u001b[0m, \u001b[38;5;34m512\u001b[0m)    │     \u001b[38;5;34m2,359,808\u001b[0m │\n",
       "├─────────────────────────────────┼────────────────────────┼───────────────┤\n",
       "│ block4_pool (\u001b[38;5;33mMaxPooling2D\u001b[0m)      │ (\u001b[38;5;45mNone\u001b[0m, \u001b[38;5;34m9\u001b[0m, \u001b[38;5;34m9\u001b[0m, \u001b[38;5;34m512\u001b[0m)      │             \u001b[38;5;34m0\u001b[0m │\n",
       "├─────────────────────────────────┼────────────────────────┼───────────────┤\n",
       "│ block5_conv1 (\u001b[38;5;33mConv2D\u001b[0m)           │ (\u001b[38;5;45mNone\u001b[0m, \u001b[38;5;34m9\u001b[0m, \u001b[38;5;34m9\u001b[0m, \u001b[38;5;34m512\u001b[0m)      │     \u001b[38;5;34m2,359,808\u001b[0m │\n",
       "├─────────────────────────────────┼────────────────────────┼───────────────┤\n",
       "│ block5_conv2 (\u001b[38;5;33mConv2D\u001b[0m)           │ (\u001b[38;5;45mNone\u001b[0m, \u001b[38;5;34m9\u001b[0m, \u001b[38;5;34m9\u001b[0m, \u001b[38;5;34m512\u001b[0m)      │     \u001b[38;5;34m2,359,808\u001b[0m │\n",
       "├─────────────────────────────────┼────────────────────────┼───────────────┤\n",
       "│ block5_conv3 (\u001b[38;5;33mConv2D\u001b[0m)           │ (\u001b[38;5;45mNone\u001b[0m, \u001b[38;5;34m9\u001b[0m, \u001b[38;5;34m9\u001b[0m, \u001b[38;5;34m512\u001b[0m)      │     \u001b[38;5;34m2,359,808\u001b[0m │\n",
       "├─────────────────────────────────┼────────────────────────┼───────────────┤\n",
       "│ block5_pool (\u001b[38;5;33mMaxPooling2D\u001b[0m)      │ (\u001b[38;5;45mNone\u001b[0m, \u001b[38;5;34m4\u001b[0m, \u001b[38;5;34m4\u001b[0m, \u001b[38;5;34m512\u001b[0m)      │             \u001b[38;5;34m0\u001b[0m │\n",
       "├─────────────────────────────────┼────────────────────────┼───────────────┤\n",
       "│ flatten (\u001b[38;5;33mFlatten\u001b[0m)               │ (\u001b[38;5;45mNone\u001b[0m, \u001b[38;5;34m8192\u001b[0m)           │             \u001b[38;5;34m0\u001b[0m │\n",
       "├─────────────────────────────────┼────────────────────────┼───────────────┤\n",
       "│ dense (\u001b[38;5;33mDense\u001b[0m)                   │ (\u001b[38;5;45mNone\u001b[0m, \u001b[38;5;34m1024\u001b[0m)           │     \u001b[38;5;34m8,389,632\u001b[0m │\n",
       "├─────────────────────────────────┼────────────────────────┼───────────────┤\n",
       "│ dropout (\u001b[38;5;33mDropout\u001b[0m)               │ (\u001b[38;5;45mNone\u001b[0m, \u001b[38;5;34m1024\u001b[0m)           │             \u001b[38;5;34m0\u001b[0m │\n",
       "├─────────────────────────────────┼────────────────────────┼───────────────┤\n",
       "│ dense_1 (\u001b[38;5;33mDense\u001b[0m)                 │ (\u001b[38;5;45mNone\u001b[0m, \u001b[38;5;34m512\u001b[0m)            │       \u001b[38;5;34m524,800\u001b[0m │\n",
       "├─────────────────────────────────┼────────────────────────┼───────────────┤\n",
       "│ dropout_1 (\u001b[38;5;33mDropout\u001b[0m)             │ (\u001b[38;5;45mNone\u001b[0m, \u001b[38;5;34m512\u001b[0m)            │             \u001b[38;5;34m0\u001b[0m │\n",
       "├─────────────────────────────────┼────────────────────────┼───────────────┤\n",
       "│ dense_2 (\u001b[38;5;33mDense\u001b[0m)                 │ (\u001b[38;5;45mNone\u001b[0m, \u001b[38;5;34m256\u001b[0m)            │       \u001b[38;5;34m131,328\u001b[0m │\n",
       "├─────────────────────────────────┼────────────────────────┼───────────────┤\n",
       "│ dropout_2 (\u001b[38;5;33mDropout\u001b[0m)             │ (\u001b[38;5;45mNone\u001b[0m, \u001b[38;5;34m256\u001b[0m)            │             \u001b[38;5;34m0\u001b[0m │\n",
       "├─────────────────────────────────┼────────────────────────┼───────────────┤\n",
       "│ dense_3 (\u001b[38;5;33mDense\u001b[0m)                 │ (\u001b[38;5;45mNone\u001b[0m, \u001b[38;5;34m6\u001b[0m)              │         \u001b[38;5;34m1,542\u001b[0m │\n",
       "└─────────────────────────────────┴────────────────────────┴───────────────┘\n"
      ]
     },
     "metadata": {},
     "output_type": "display_data"
    },
    {
     "data": {
      "text/html": [
       "<pre style=\"white-space:pre;overflow-x:auto;line-height:normal;font-family:Menlo,'DejaVu Sans Mono',consolas,'Courier New',monospace\"><span style=\"font-weight: bold\"> Total params: </span><span style=\"color: #00af00; text-decoration-color: #00af00\">23,761,990</span> (90.64 MB)\n",
       "</pre>\n"
      ],
      "text/plain": [
       "\u001b[1m Total params: \u001b[0m\u001b[38;5;34m23,761,990\u001b[0m (90.64 MB)\n"
      ]
     },
     "metadata": {},
     "output_type": "display_data"
    },
    {
     "data": {
      "text/html": [
       "<pre style=\"white-space:pre;overflow-x:auto;line-height:normal;font-family:Menlo,'DejaVu Sans Mono',consolas,'Courier New',monospace\"><span style=\"font-weight: bold\"> Trainable params: </span><span style=\"color: #00af00; text-decoration-color: #00af00\">13,766,918</span> (52.52 MB)\n",
       "</pre>\n"
      ],
      "text/plain": [
       "\u001b[1m Trainable params: \u001b[0m\u001b[38;5;34m13,766,918\u001b[0m (52.52 MB)\n"
      ]
     },
     "metadata": {},
     "output_type": "display_data"
    },
    {
     "data": {
      "text/html": [
       "<pre style=\"white-space:pre;overflow-x:auto;line-height:normal;font-family:Menlo,'DejaVu Sans Mono',consolas,'Courier New',monospace\"><span style=\"font-weight: bold\"> Non-trainable params: </span><span style=\"color: #00af00; text-decoration-color: #00af00\">9,995,072</span> (38.13 MB)\n",
       "</pre>\n"
      ],
      "text/plain": [
       "\u001b[1m Non-trainable params: \u001b[0m\u001b[38;5;34m9,995,072\u001b[0m (38.13 MB)\n"
      ]
     },
     "metadata": {},
     "output_type": "display_data"
    },
    {
     "name": "stdout",
     "output_type": "stream",
     "text": [
      "Número de capas entrenables: 11\n"
     ]
    }
   ],
   "source": [
    "# Modelo basado en VGG16 preentrenado\n",
    "base_model = VGG16(weights='imagenet', include_top=False, input_shape=(150, 150, 3))\n",
    "\n",
    "# Congelar las capas del modelo base\n",
    "for layer in base_model.layers:\n",
    "    layer.trainable = False\n",
    "\n",
    "# Añadir capas adicionales al modelo\n",
    "x = base_model.output\n",
    "x = Flatten()(x)\n",
    "x = Dense(1024, activation='relu')(x)\n",
    "x = Dropout(0.5)(x)\n",
    "x = Dense(512, activation='relu')(x)\n",
    "x = Dropout(0.5)(x)\n",
    "x = Dense(256, activation='relu')(x)\n",
    "x = Dropout(0.3)(x)\n",
    "output = Dense(train_generator.num_classes, activation='softmax')(x)\n",
    "\n",
    "\n",
    "# Definir el modelo completo\n",
    "model = Model(inputs=base_model.input, outputs=output)\n",
    "\n",
    "# DESCONGELAR LAS ÚLTIMAS 3 CAPAS\n",
    "for layer in base_model.layers[-3:]:\n",
    "    layer.trainable = True\n",
    "\n",
    "# Compilar el modelo\n",
    "learning_rate = 0.0005  # Learning rate bajo para Transfer Learning\n",
    "optimizer = Adam(learning_rate=learning_rate)\n",
    "model.compile(optimizer=optimizer, loss='categorical_crossentropy', metrics=['accuracy'])\n",
    "\n",
    "# Ver el resumen del modelo\n",
    "model.summary()\n",
    "\n",
    "# Verificar número de capas entrenables\n",
    "trainable_layers = sum([1 for layer in model.layers if layer.trainable])\n",
    "print(f\"Número de capas entrenables: {trainable_layers}\")"
   ]
  },
  {
   "cell_type": "markdown",
   "id": "a263fa9b",
   "metadata": {},
   "source": [
    "## 7.1 Verificar generador de entrenamiento"
   ]
  },
  {
   "cell_type": "code",
   "execution_count": 8,
   "id": "61ee19a8",
   "metadata": {},
   "outputs": [
    {
     "name": "stdout",
     "output_type": "stream",
     "text": [
      "Shape de imágenes: (32, 150, 150, 3)\n",
      "Shape de labels: (32, 6)\n"
     ]
    }
   ],
   "source": [
    "for images, labels in train_generator:\n",
    "    print(f\"Shape de imágenes: {images.shape}\")\n",
    "    print(f\"Shape de labels: {labels.shape}\")\n",
    "    break  # Salir después del primer batch"
   ]
  },
  {
   "cell_type": "markdown",
   "id": "f0291525",
   "metadata": {},
   "source": [
    "## 7.2 EarlyStopping"
   ]
  },
  {
   "cell_type": "code",
   "execution_count": 9,
   "id": "e457c7b9",
   "metadata": {},
   "outputs": [],
   "source": [
    "early_stopping = EarlyStopping(monitor='val_loss', patience=3, restore_best_weights=True)"
   ]
  },
  {
   "cell_type": "markdown",
   "id": "de919df3",
   "metadata": {},
   "source": [
    "## 7.3 Disminuir el learning rate si no hay mejoras"
   ]
  },
  {
   "cell_type": "code",
   "execution_count": 10,
   "id": "9dcd0f53",
   "metadata": {},
   "outputs": [],
   "source": [
    "reduce_lr = ReduceLROnPlateau(\n",
    "    monitor='val_loss',\n",
    "    factor=0.5,\n",
    "    patience=3,\n",
    "    min_lr=1e-6,\n",
    "    verbose=1\n",
    ")"
   ]
  },
  {
   "cell_type": "markdown",
   "id": "3da53162",
   "metadata": {},
   "source": [
    "## 7.4 Mostrar una imagen como matriz de datos"
   ]
  },
  {
   "cell_type": "code",
   "execution_count": 11,
   "id": "a62d2d5f",
   "metadata": {},
   "outputs": [
    {
     "name": "stdout",
     "output_type": "stream",
     "text": [
      "Array de la imagen:\n",
      "[[[190. 188. 189.]\n",
      "  [239. 239. 239.]\n",
      "  [238. 238. 238.]\n",
      "  ...\n",
      "  [213. 195. 175.]\n",
      "  [215. 198. 178.]\n",
      "  [219. 203. 187.]]\n",
      "\n",
      " [[241. 241. 241.]\n",
      "  [198. 198. 200.]\n",
      "  [237. 237. 237.]\n",
      "  ...\n",
      "  [214. 197. 177.]\n",
      "  [217. 200. 184.]\n",
      "  [219. 202. 186.]]\n",
      "\n",
      " [[210. 210. 210.]\n",
      "  [224. 224. 222.]\n",
      "  [242. 242. 242.]\n",
      "  ...\n",
      "  [217. 200. 180.]\n",
      "  [218. 201. 183.]\n",
      "  [219. 202. 186.]]\n",
      "\n",
      " ...\n",
      "\n",
      " [[237. 221. 198.]\n",
      "  [236. 218. 194.]\n",
      "  [229. 211. 187.]\n",
      "  ...\n",
      "  [ 98.  86.  70.]\n",
      "  [124. 105.  91.]\n",
      "  [128. 105.  89.]]\n",
      "\n",
      " [[237. 219. 195.]\n",
      "  [232. 214. 190.]\n",
      "  [229. 211. 187.]\n",
      "  ...\n",
      "  [165. 138. 108.]\n",
      "  [169. 142. 112.]\n",
      "  [140. 120.  93.]]\n",
      "\n",
      " [[234. 217. 199.]\n",
      "  [232. 216. 191.]\n",
      "  [224. 207. 181.]\n",
      "  ...\n",
      "  [159. 129. 101.]\n",
      "  [171. 141. 113.]\n",
      "  [140. 120.  95.]]]\n",
      "\n",
      "Dimensiones del array: (150, 150, 3)\n"
     ]
    }
   ],
   "source": [
    "# Mostrar una imagen como array de datos\n",
    "ejemplo_img_path = os.path.join(train_dir, 'monitor', os.listdir(os.path.join(train_dir, 'monitor'))[0])\n",
    "img = image.load_img(ejemplo_img_path, target_size=(150, 150))\n",
    "img_array = image.img_to_array(img)\n",
    "\n",
    "print(\"Array de la imagen:\")\n",
    "print(img_array)\n",
    "print(\"\\nDimensiones del array:\", img_array.shape)"
   ]
  },
  {
   "cell_type": "markdown",
   "id": "f7097c28",
   "metadata": {},
   "source": [
    "# 8. Entrenamiento"
   ]
  },
  {
   "cell_type": "code",
   "execution_count": 12,
   "id": "365a87e3",
   "metadata": {},
   "outputs": [
    {
     "name": "stderr",
     "output_type": "stream",
     "text": [
      "c:\\Users\\Alejandra\\AppData\\Local\\Programs\\Python\\Python310\\lib\\site-packages\\keras\\src\\trainers\\data_adapters\\py_dataset_adapter.py:121: UserWarning: Your `PyDataset` class should call `super().__init__(**kwargs)` in its constructor. `**kwargs` can include `workers`, `use_multiprocessing`, `max_queue_size`. Do not pass these arguments to `fit()`, as they will be ignored.\n",
      "  self._warn_if_super_not_called()\n"
     ]
    },
    {
     "name": "stdout",
     "output_type": "stream",
     "text": [
      "Epoch 1/50\n",
      "\u001b[1m10/10\u001b[0m \u001b[32m━━━━━━━━━━━━━━━━━━━━\u001b[0m\u001b[37m\u001b[0m \u001b[1m72s\u001b[0m 7s/step - accuracy: 0.2126 - loss: 2.0027 - val_accuracy: 0.2167 - val_loss: 1.6166 - learning_rate: 5.0000e-04\n",
      "Epoch 2/50\n",
      "\u001b[1m10/10\u001b[0m \u001b[32m━━━━━━━━━━━━━━━━━━━━\u001b[0m\u001b[37m\u001b[0m \u001b[1m64s\u001b[0m 6s/step - accuracy: 0.2459 - loss: 1.6830 - val_accuracy: 0.5667 - val_loss: 1.2923 - learning_rate: 5.0000e-04\n",
      "Epoch 3/50\n",
      "\u001b[1m10/10\u001b[0m \u001b[32m━━━━━━━━━━━━━━━━━━━━\u001b[0m\u001b[37m\u001b[0m \u001b[1m62s\u001b[0m 6s/step - accuracy: 0.3862 - loss: 1.5445 - val_accuracy: 0.7500 - val_loss: 1.0801 - learning_rate: 5.0000e-04\n",
      "Epoch 4/50\n",
      "\u001b[1m10/10\u001b[0m \u001b[32m━━━━━━━━━━━━━━━━━━━━\u001b[0m\u001b[37m\u001b[0m \u001b[1m62s\u001b[0m 6s/step - accuracy: 0.4867 - loss: 1.2982 - val_accuracy: 0.7500 - val_loss: 0.6906 - learning_rate: 5.0000e-04\n",
      "Epoch 5/50\n",
      "\u001b[1m10/10\u001b[0m \u001b[32m━━━━━━━━━━━━━━━━━━━━\u001b[0m\u001b[37m\u001b[0m \u001b[1m61s\u001b[0m 6s/step - accuracy: 0.5937 - loss: 1.1596 - val_accuracy: 0.7667 - val_loss: 0.6288 - learning_rate: 5.0000e-04\n",
      "Epoch 6/50\n",
      "\u001b[1m10/10\u001b[0m \u001b[32m━━━━━━━━━━━━━━━━━━━━\u001b[0m\u001b[37m\u001b[0m \u001b[1m61s\u001b[0m 6s/step - accuracy: 0.6671 - loss: 0.9945 - val_accuracy: 0.7333 - val_loss: 0.6576 - learning_rate: 5.0000e-04\n",
      "Epoch 7/50\n",
      "\u001b[1m10/10\u001b[0m \u001b[32m━━━━━━━━━━━━━━━━━━━━\u001b[0m\u001b[37m\u001b[0m \u001b[1m59s\u001b[0m 6s/step - accuracy: 0.6302 - loss: 1.0180 - val_accuracy: 0.8167 - val_loss: 0.4200 - learning_rate: 5.0000e-04\n",
      "Epoch 8/50\n",
      "\u001b[1m10/10\u001b[0m \u001b[32m━━━━━━━━━━━━━━━━━━━━\u001b[0m\u001b[37m\u001b[0m \u001b[1m59s\u001b[0m 6s/step - accuracy: 0.6210 - loss: 0.9486 - val_accuracy: 0.8000 - val_loss: 0.6976 - learning_rate: 5.0000e-04\n",
      "Epoch 9/50\n",
      "\u001b[1m10/10\u001b[0m \u001b[32m━━━━━━━━━━━━━━━━━━━━\u001b[0m\u001b[37m\u001b[0m \u001b[1m59s\u001b[0m 6s/step - accuracy: 0.7563 - loss: 0.7477 - val_accuracy: 0.8333 - val_loss: 0.5204 - learning_rate: 5.0000e-04\n",
      "Epoch 10/50\n",
      "\u001b[1m10/10\u001b[0m \u001b[32m━━━━━━━━━━━━━━━━━━━━\u001b[0m\u001b[37m\u001b[0m \u001b[1m61s\u001b[0m 6s/step - accuracy: 0.7798 - loss: 0.6787 - val_accuracy: 0.9000 - val_loss: 0.3132 - learning_rate: 5.0000e-04\n",
      "Epoch 11/50\n",
      "\u001b[1m10/10\u001b[0m \u001b[32m━━━━━━━━━━━━━━━━━━━━\u001b[0m\u001b[37m\u001b[0m \u001b[1m59s\u001b[0m 6s/step - accuracy: 0.7545 - loss: 0.8193 - val_accuracy: 0.9333 - val_loss: 0.3147 - learning_rate: 5.0000e-04\n",
      "Epoch 12/50\n",
      "\u001b[1m10/10\u001b[0m \u001b[32m━━━━━━━━━━━━━━━━━━━━\u001b[0m\u001b[37m\u001b[0m \u001b[1m68s\u001b[0m 7s/step - accuracy: 0.7466 - loss: 0.6843 - val_accuracy: 0.9333 - val_loss: 0.3062 - learning_rate: 5.0000e-04\n",
      "Epoch 13/50\n",
      "\u001b[1m10/10\u001b[0m \u001b[32m━━━━━━━━━━━━━━━━━━━━\u001b[0m\u001b[37m\u001b[0m \u001b[1m59s\u001b[0m 6s/step - accuracy: 0.8317 - loss: 0.5643 - val_accuracy: 0.9333 - val_loss: 0.2018 - learning_rate: 5.0000e-04\n",
      "Epoch 14/50\n",
      "\u001b[1m10/10\u001b[0m \u001b[32m━━━━━━━━━━━━━━━━━━━━\u001b[0m\u001b[37m\u001b[0m \u001b[1m61s\u001b[0m 6s/step - accuracy: 0.8284 - loss: 0.5855 - val_accuracy: 0.9167 - val_loss: 0.2481 - learning_rate: 5.0000e-04\n",
      "Epoch 15/50\n",
      "\u001b[1m10/10\u001b[0m \u001b[32m━━━━━━━━━━━━━━━━━━━━\u001b[0m\u001b[37m\u001b[0m \u001b[1m60s\u001b[0m 6s/step - accuracy: 0.8451 - loss: 0.4534 - val_accuracy: 0.9333 - val_loss: 0.2080 - learning_rate: 5.0000e-04\n",
      "Epoch 16/50\n",
      "\u001b[1m10/10\u001b[0m \u001b[32m━━━━━━━━━━━━━━━━━━━━\u001b[0m\u001b[37m\u001b[0m \u001b[1m0s\u001b[0m 5s/step - accuracy: 0.8047 - loss: 0.6103\n",
      "Epoch 16: ReduceLROnPlateau reducing learning rate to 0.0002500000118743628.\n",
      "\u001b[1m10/10\u001b[0m \u001b[32m━━━━━━━━━━━━━━━━━━━━\u001b[0m\u001b[37m\u001b[0m \u001b[1m80s\u001b[0m 6s/step - accuracy: 0.8026 - loss: 0.6181 - val_accuracy: 0.9500 - val_loss: 0.3060 - learning_rate: 5.0000e-04\n"
     ]
    }
   ],
   "source": [
    "# Entrenamiento del modelo\n",
    "history = model.fit(\n",
    "    train_generator,\n",
    "    epochs=epochs,\n",
    "    validation_data=val_generator,\n",
    "    callbacks=[early_stopping, reduce_lr]\n",
    ")"
   ]
  },
  {
   "cell_type": "markdown",
   "id": "210cd0ac",
   "metadata": {},
   "source": [
    "## 8.1 Guardar el modelo entrenado"
   ]
  },
  {
   "cell_type": "code",
   "execution_count": 13,
   "id": "f8c2fdc0",
   "metadata": {},
   "outputs": [
    {
     "name": "stderr",
     "output_type": "stream",
     "text": [
      "WARNING:absl:You are saving your model as an HDF5 file via `model.save()` or `keras.saving.save_model(model)`. This file format is considered legacy. We recommend using instead the native Keras format, e.g. `model.save('my_model.keras')` or `keras.saving.save_model(model, 'my_model.keras')`. \n"
     ]
    },
    {
     "name": "stdout",
     "output_type": "stream",
     "text": [
      "Modelo guardado en 'models/modelo_multiclase.h5'\n"
     ]
    }
   ],
   "source": [
    "model.save('models/modelo_multiclase.h5')\n",
    "print(\"Modelo guardado en 'models/modelo_multiclase.h5'\")"
   ]
  },
  {
   "cell_type": "markdown",
   "id": "90125a16",
   "metadata": {},
   "source": [
    "# 9. Visualización del entrenamiento"
   ]
  },
  {
   "cell_type": "code",
   "execution_count": 14,
   "id": "5adb9c7b",
   "metadata": {},
   "outputs": [
    {
     "data": {
      "image/png": "[encoded data removed]",
      "text/plain": [
       "<Figure size 1400x500 with 2 Axes>"
      ]
     },
     "metadata": {},
     "output_type": "display_data"
    }
   ],
   "source": [
    "# Precisión\n",
    "# Gráficas de Accuracy\n",
    "plt.figure(figsize=(14, 5))\n",
    "plt.subplot(1, 2, 1)\n",
    "plt.plot(history.history['accuracy'], label='Entrenamiento')\n",
    "plt.plot(history.history['val_accuracy'], label='Validación')\n",
    "plt.title('Precisión del modelo')\n",
    "plt.xlabel('Épocas')\n",
    "plt.ylabel('Precisión')\n",
    "plt.legend()\n",
    "\n",
    "# Pérdida\n",
    "# Gráficas de Loss\n",
    "plt.subplot(1, 2, 2)\n",
    "plt.plot(history.history['loss'], label='Entrenamiento')\n",
    "plt.plot(history.history['val_loss'], label='Validación')\n",
    "plt.title('Pérdida del modelo')\n",
    "plt.xlabel('Épocas')\n",
    "plt.ylabel('Pérdida')\n",
    "plt.legend()\n",
    "\n",
    "plt.show()"
   ]
  },
  {
   "cell_type": "markdown",
   "id": "35050074",
   "metadata": {},
   "source": [
    "### Análisis de las Gráficas de Entrenamiento"
   ]
  },
  {
   "cell_type": "markdown",
   "id": "e961f92d",
   "metadata": {},
   "source": [
    "Las gráficas se ven bastante claras y muestran información importante sobre el comportamiento del modelo.\n",
    "\n",
    "1. Gráfica de Precisión (Accuracy):\n",
    "*  Curva de Entrenamiento (azul):\n",
    "\n",
    "La precisión comienza en un nivel bajo, alrededor del 0.20 (20%), lo cual es esperado al inicio del entrenamiento.\n",
    "\n",
    "A partir de la época 5, la curva presenta un aumento continuo, alcanzando aproximadamente 0.80 (80%) en las épocas intermedias.\n",
    "\n",
    "En las últimas épocas, la curva sigue ascendiendo, estabilizándose en torno al 0.80, mostrando una tendencia positiva sin señales claras de saturación.\n",
    "\n",
    "\n",
    "*  Curva de Validación (naranja):\n",
    "\n",
    "La precisión de validación muestra un crecimiento rápido en las primeras épocas, alcanzando un pico alrededor de la época 6 con una precisión cercana al 80%.\n",
    "\n",
    "Sin embargo, a diferencia de la curva de entrenamiento, la precisión de validación se mantiene más alta durante gran parte del entrenamiento, lo que puede indicar que el modelo está memorizando patrones específicos del conjunto de validación.\n",
    "\n",
    "Al final del entrenamiento, la precisión de validación se estabiliza cerca del 0.85 - 0.90, manteniéndose superior a la curva de entrenamiento."
   ]
  },
  {
   "cell_type": "markdown",
   "id": "da434511",
   "metadata": {},
   "source": [
    "2. Gráfica de Pérdida (Loss):\n",
    "*  Curva de Entrenamiento (azul):\n",
    "\n",
    "La pérdida comienza alta, más de 1.75, y desciende de forma constante a partir de las primeras épocas.\n",
    "\n",
    "En las épocas intermedias, la pérdida sigue descendiendo de manera uniforme hasta estabilizarse un poco.\n",
    "\n",
    "En las últimas épocas, la curva muestra una ligera subida, lo que puede indicar un ligero sobreajuste al conjunto de entrenamiento.\n",
    "\n",
    "*  Curva de Validación (naranja):\n",
    "\n",
    "La pérdida de validación sigue una tendencia similar a la curva de entrenamiento, con una disminución rápida en las primeras épocas.\n",
    "\n",
    "En las épocas intermedias, la pérdida de validación muestra un descenso notable, alcanzando aproximadamente 0.35 - 0.40.\n",
    "\n",
    "En las últimas épocas, la curva muestra un aumento leve, lo que refuerza la idea de sobreajuste leve."
   ]
  },
  {
   "cell_type": "markdown",
   "id": "a7d6f5c1",
   "metadata": {},
   "source": [
    "3. Conclusión del entrenamiento:\n",
    "*  El modelo ha logrado aprender de manera efectiva, mostrando una tendencia clara de reducción de la pérdida y aumento de la precisión.\n",
    "\n",
    "*  Las fluctuaciones en la precisión de validación, aunque menores, pueden estar indicando que el modelo es sensible a las muestras de validación, lo que sugiere que podría estar ajustándose demasiado a este conjunto."
   ]
  },
  {
   "cell_type": "markdown",
   "id": "815434ad",
   "metadata": {},
   "source": [
    "# 10. Evaluación del modelo en test"
   ]
  },
  {
   "cell_type": "code",
   "execution_count": 15,
   "id": "d0e6bd93",
   "metadata": {},
   "outputs": [
    {
     "name": "stdout",
     "output_type": "stream",
     "text": [
      "\u001b[1m48/48\u001b[0m \u001b[32m━━━━━━━━━━━━━━━━━━━━\u001b[0m\u001b[37m\u001b[0m \u001b[1m8s\u001b[0m 174ms/step - accuracy: 0.8655 - loss: 0.8336\n",
      "\n",
      "Pérdida en test: 0.7322\n",
      "Precisión en test: 0.8542\n"
     ]
    }
   ],
   "source": [
    "scores = model.evaluate(test_generator)\n",
    "print(f\"\\nPérdida en test: {scores[0]:.4f}\")\n",
    "print(f\"Precisión en test: {scores[1]:.4f}\")"
   ]
  },
  {
   "cell_type": "markdown",
   "id": "b4a476ef",
   "metadata": {},
   "source": [
    "# 11. Matriz de confusión"
   ]
  },
  {
   "cell_type": "code",
   "execution_count": 16,
   "id": "956f9f5a",
   "metadata": {},
   "outputs": [
    {
     "name": "stdout",
     "output_type": "stream",
     "text": [
      "\u001b[1m48/48\u001b[0m \u001b[32m━━━━━━━━━━━━━━━━━━━━\u001b[0m\u001b[37m\u001b[0m \u001b[1m8s\u001b[0m 173ms/step\n",
      "\u001b[1m2/2\u001b[0m \u001b[32m━━━━━━━━━━━━━━━━━━━━\u001b[0m\u001b[37m\u001b[0m \u001b[1m9s\u001b[0m 4s/step\n",
      "\u001b[1m10/10\u001b[0m \u001b[32m━━━━━━━━━━━━━━━━━━━━\u001b[0m\u001b[37m\u001b[0m \u001b[1m50s\u001b[0m 5s/step\n"
     ]
    },
    {
     "data": {
      "text/plain": [
       "<Figure size 1400x1000 with 0 Axes>"
      ]
     },
     "metadata": {},
     "output_type": "display_data"
    },
    {
     "data": {
      "image/png": "[encoded data removed]",
      "text/plain": [
       "<Figure size 640x480 with 2 Axes>"
      ]
     },
     "metadata": {},
     "output_type": "display_data"
    }
   ],
   "source": [
    "def get_predictions(generator):\n",
    "    \"\"\"\n",
    "    Realiza predicciones y devuelve las etiquetas verdaderas y predichas.\n",
    "    \"\"\"\n",
    "    y_pred = model.predict(generator)\n",
    "    y_pred_classes = np.argmax(y_pred, axis=1)\n",
    "    y_true = generator.classes\n",
    "    return y_true, y_pred_classes\n",
    "\n",
    "# Obtener predicciones del conjunto de test\n",
    "y_true_test, y_pred_test = get_predictions(test_generator)\n",
    "\n",
    "# Obtener predicciones del conjunto de validación\n",
    "y_true_val, y_pred_val = get_predictions(val_generator)\n",
    "\n",
    "# Obtener predicciones del conjunto de entrenamiento\n",
    "y_true_train, y_pred_train = get_predictions(train_generator)\n",
    "\n",
    "# Concatenar todas las predicciones\n",
    "y_true_all = np.concatenate([y_true_test, y_true_val, y_true_train])\n",
    "y_pred_all = np.concatenate([y_pred_test, y_pred_val, y_pred_train])\n",
    "\n",
    "# Crear la matriz de confusión\n",
    "labels = list(test_generator.class_indices.keys())\n",
    "cm = confusion_matrix(y_true_all, y_pred_all)\n",
    "\n",
    "# Mostrar la matriz de confusión\n",
    "plt.figure(figsize=(14, 10))\n",
    "disp = ConfusionMatrixDisplay(confusion_matrix=cm, display_labels=labels)\n",
    "disp.plot(xticks_rotation=45, cmap='Blues')\n",
    "plt.title('Matriz de Confusión - Test, Validación y Entrenamiento')\n",
    "plt.show()"
   ]
  },
  {
   "cell_type": "markdown",
   "id": "d3dabf9a",
   "metadata": {},
   "source": [
    "1. Clases y sus errores:\n",
    "\n",
    "*  Libro:\n",
    "\n",
    "20 imágenes clasificadas correctamente.\n",
    "\n",
    "14 imágenes confundidas con monitor.\n",
    "\n",
    "6 imágenes confundidas con móvil.\n",
    "\n",
    "9 imágenes confundidas con ratón.\n",
    "\n",
    "9 imágenes confundidas con taza.\n",
    "\n",
    "12 imágenes confundidas con teclado.\n",
    "\n",
    "*  Monitor:\n",
    "\n",
    "13 imágenes clasificadas correctamente.\n",
    "\n",
    "14 imágenes confundidas con libro.\n",
    "\n",
    "12 imágenes confundidas con móvil.\n",
    "\n",
    "13 imágenes confundidas con ratón.\n",
    "\n",
    "7 imágenes confundidas con taza.\n",
    "\n",
    "11 imágenes confundidas con teclado.\n",
    "\n",
    "*  Móvil:\n",
    "\n",
    "14 imágenes clasificadas correctamente.\n",
    "\n",
    "19 imágenes confundidas con libro.\n",
    "\n",
    "9 imágenes confundidas con monitor.\n",
    "\n",
    "10 imágenes confundidas con ratón.\n",
    "\n",
    "7 imágenes confundidas con taza.\n",
    "\n",
    "11 imágenes confundidas con teclado.\n",
    "\n",
    "*  Ratón:\n",
    "\n",
    "18 imágenes clasificadas correctamente.\n",
    "\n",
    "15 imágenes confundidas con libro.\n",
    "\n",
    "5 imágenes confundidas con monitor.\n",
    "\n",
    "12 imágenes confundidas con móvil.\n",
    "\n",
    "8 imágenes confundidas con taza.\n",
    "\n",
    "12 imágenes confundidas con teclado.\n",
    "\n",
    "*  Taza:\n",
    "\n",
    "19 imágenes clasificadas correctamente.\n",
    "\n",
    "15 imágenes confundidas con libro.\n",
    "\n",
    "12 imágenes confundidas con monitor.\n",
    "\n",
    "10 imágenes confundidas con móvil.\n",
    "\n",
    "8 imágenes confundidas con ratón.\n",
    "\n",
    "6 imágenes confundidas con teclado.\n",
    "\n",
    "*  Teclado:\n",
    "\n",
    "18 imágenes clasificadas correctamente.\n",
    "\n",
    "7 imágenes confundidas con libro.\n",
    "\n",
    "12 imágenes confundidas con monitor.\n",
    "\n",
    "7 imágenes confundidas con móvil.\n",
    "\n",
    "11 imágenes confundidas con ratón.\n",
    "\n",
    "15 imágenes confundidas con taza."
   ]
  },
  {
   "cell_type": "markdown",
   "id": "8ae1155b",
   "metadata": {},
   "source": [
    "# 12. Guardar el modelo"
   ]
  },
  {
   "cell_type": "code",
   "execution_count": 17,
   "id": "65c3e6b9",
   "metadata": {},
   "outputs": [
    {
     "name": "stderr",
     "output_type": "stream",
     "text": [
      "WARNING:absl:You are saving your model as an HDF5 file via `model.save()` or `keras.saving.save_model(model)`. This file format is considered legacy. We recommend using instead the native Keras format, e.g. `model.save('my_model.keras')` or `keras.saving.save_model(model, 'my_model.keras')`. \n"
     ]
    },
    {
     "name": "stdout",
     "output_type": "stream",
     "text": [
      "\n",
      "Modelo guardado en 'models/modelo_multiclase.h5'\n"
     ]
    }
   ],
   "source": [
    "os.makedirs('models', exist_ok=True)\n",
    "model.save('models/modelo_multiclase.h5')\n",
    "\n",
    "print(\"\\nModelo guardado en 'models/modelo_multiclase.h5'\")"
   ]
  }
 ],
 "metadata": {
  "kernelspec": {
   "display_name": "Python 3",
   "language": "python",
   "name": "python3"
  },
  "language_info": {
   "codemirror_mode": {
    "name": "ipython",
    "version": 3
   },
   "file_extension": ".py",
   "mimetype": "text/x-python",
   "name": "python",
   "nbconvert_exporter": "python",
   "pygments_lexer": "ipython3",
   "version": "3.10.0"
  }
 },
 "nbformat": 4,
 "nbformat_minor": 5
}
